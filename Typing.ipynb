{
 "cells": [
  {
   "cell_type": "markdown",
   "id": "714432b7",
   "metadata": {},
   "source": [
    "IMPORT CELL"
   ]
  },
  {
   "cell_type": "code",
   "execution_count": 1,
   "id": "677b29ad",
   "metadata": {},
   "outputs": [],
   "source": [
    "from selenium import webdriver\n",
    "from selenium.webdriver.common.by import By\n",
    "import pyautogui"
   ]
  },
  {
   "cell_type": "markdown",
   "id": "a1c1cdc8",
   "metadata": {},
   "source": [
    "BROWSER CELL"
   ]
  },
  {
   "cell_type": "code",
   "execution_count": 4,
   "id": "d61c65bb",
   "metadata": {},
   "outputs": [],
   "source": [
    "driver = webdriver.Chrome()\n",
    "driver.get(\"https://humanbenchmark.com/tests/typing\")"
   ]
  },
  {
   "cell_type": "markdown",
   "id": "2ea253fc",
   "metadata": {},
   "source": [
    "WRITING CELL"
   ]
  },
  {
   "cell_type": "code",
   "execution_count": 29,
   "id": "4334d322",
   "metadata": {},
   "outputs": [],
   "source": [
    "elem = driver.find_elements(By.CSS_SELECTOR,\"div.letters > span\")\n",
    "sentence = ''\n",
    "\n",
    "for span in elem:\n",
    "  char = span.get_attribute(\"innerHTML\")\n",
    "  if char == \"&nbsp;\":\n",
    "    sentence = sentence + \" \"\n",
    "  else:\n",
    "    sentence = sentence + char\n",
    "\n",
    "pyautogui.write(sentence,interval=0)"
   ]
  }
 ],
 "metadata": {
  "kernelspec": {
   "display_name": "venu (3.13.5)",
   "language": "python",
   "name": "python3"
  },
  "language_info": {
   "codemirror_mode": {
    "name": "ipython",
    "version": 3
   },
   "file_extension": ".py",
   "mimetype": "text/x-python",
   "name": "python",
   "nbconvert_exporter": "python",
   "pygments_lexer": "ipython3",
   "version": "3.13.5"
  }
 },
 "nbformat": 4,
 "nbformat_minor": 5
}
